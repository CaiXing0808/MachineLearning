{
 "cells": [
  {
   "cell_type": "code",
   "execution_count": 3,
   "metadata": {},
   "outputs": [
    {
     "name": "stdout",
     "output_type": "stream",
     "text": [
      "\n",
      "DSBA / ITCS 6156 Assignment 2\n",
      "\n",
      "Process the Iris dataset using Linear Regression to produce a model that\n",
      "can predict the class of Iris from the input features\n",
      "\n",
      "Ridge result\n",
      "Elastic Net result\n"
     ]
    },
    {
     "data": {
      "image/png": "[encoded data removed]",
      "text/plain": [
       "<matplotlib.figure.Figure at 0x21f51c69278>"
      ]
     },
     "metadata": {},
     "output_type": "display_data"
    },
    {
     "data": {
      "image/png": "[encoded data removed]",
      "text/plain": [
       "<matplotlib.figure.Figure at 0x21f51c694a8>"
      ]
     },
     "metadata": {},
     "output_type": "display_data"
    }
   ],
   "source": [
    "# -*- coding: utf-8 -*-\n",
    "\"\"\"\n",
    "DSBA / ITCS 6156 Assignment 2\n",
    "\n",
    "Process the Iris dataset using Linear Regression to produce a model that\n",
    "can predict the class of Iris from the input features\n",
    "\"\"\"\n",
    "\n",
    "print(__doc__)\n",
    "\n",
    "import numpy as np\n",
    "import matplotlib.pyplot as plt\n",
    "\n",
    "from sklearn import datasets\n",
    "\n",
    "from sklearn.model_selection import train_test_split\n",
    "from sklearn.preprocessing import PolynomialFeatures\n",
    "\n",
    "from sklearn.pipeline import make_pipeline\n",
    "from sklearn.linear_model import Ridge, ElasticNet\n",
    "\n",
    "\n",
    "\n",
    "# import some data to play with\n",
    "iris = datasets.load_iris()\n",
    "\n",
    "irisData = np.c_[iris.data, iris.target]\n",
    "\n",
    "trainData, testData = train_test_split(irisData)\n",
    "\n",
    "X_train = trainData[:, :4]\n",
    "y_train = trainData[:, 4:5]\n",
    "\n",
    "X_test = testData[:, :4]\n",
    "y_test = testData[:, 4:5]\n",
    "\n",
    "    \n",
    "def irisPolyRidge():\n",
    "\n",
    "\n",
    "    model = make_pipeline(PolynomialFeatures(degree=4, include_bias=False), \n",
    "                          Ridge())\n",
    "    model.fit(X_train, y_train)    \n",
    "    \n",
    "    y_learned = model.predict(X_test)\n",
    "    \n",
    "    print('Ridge result')\n",
    "\n",
    "    fig = plt.figure()\n",
    "    ax = fig.add_subplot(111)\n",
    "\n",
    "    ax.scatter(y_learned, y_test, c=y_test)   \n",
    "    #plt.savefig(\"1.png\")\n",
    "\n",
    "\n",
    "def irisElasticNet():\n",
    "\n",
    "    model = ElasticNet(alpha=0.1, l1_ratio=0.3, copy_X=True)\n",
    "    model.fit(X_train, y_train)\n",
    "  \n",
    "    y_learned = model.predict(X_test)\n",
    "\n",
    "    print('Elastic Net result')    \n",
    "    fig = plt.figure()\n",
    "    ax = fig.add_subplot(111)\n",
    "    ax.scatter(y_learned, y_test, c=y_test)   \n",
    "    #plt.savefig(\"2.png\")\n",
    "#    print(outp)\n",
    "    \n",
    "if __name__ == \"__main__\":\n",
    "    irisPolyRidge()\n",
    "    irisElasticNet()\n",
    "    "
   ]
  },
  {
   "cell_type": "code",
   "execution_count": 4,
   "metadata": {},
   "outputs": [
    {
     "name": "stdout",
     "output_type": "stream",
     "text": [
      "\n",
      "gridsearchLR.py\n",
      "\n",
      "Example of LinearRegression model using GridSearchCV to select\n",
      "optimal parameters\n",
      "\n",
      "\n",
      "r2 / variance :  0.9217192235393746\n",
      "Residual sum of squares: 0.05\n",
      "LR with GridSearch result\n"
     ]
    },
    {
     "data": {
      "text/plain": [
       "<matplotlib.collections.PathCollection at 0x21f51ddfc88>"
      ]
     },
     "execution_count": 4,
     "metadata": {},
     "output_type": "execute_result"
    },
    {
     "data": {
      "image/png": "[encoded data removed]",
      "text/plain": [
       "<matplotlib.figure.Figure at 0x21f51d4b4a8>"
      ]
     },
     "metadata": {},
     "output_type": "display_data"
    }
   ],
   "source": [
    "#!/usr/bin/env python3\n",
    "# -*- coding: utf-8 -*-\n",
    "\"\"\"\n",
    "gridsearchLR.py\n",
    "\n",
    "Example of LinearRegression model using GridSearchCV to select\n",
    "optimal parameters\n",
    "\n",
    "\"\"\"\n",
    "\n",
    "print(__doc__)\n",
    "from sklearn import datasets\n",
    "from sklearn.linear_model import LinearRegression\n",
    "from sklearn.model_selection import GridSearchCV, train_test_split\n",
    "import numpy as np\n",
    "import matplotlib.pyplot as plt\n",
    "\n",
    "\n",
    "iris = datasets.load_iris()\n",
    "\n",
    "trainData, testData = train_test_split(iris.data)\n",
    "\n",
    "X_train, X_test, y_train, y_test = train_test_split(iris.data, iris.target, \n",
    "    test_size=0.3,random_state =1 )\n",
    "\n",
    "model = LinearRegression()\n",
    "parameters = {'fit_intercept':[True,False], 'normalize':[True,False], \n",
    "              'copy_X':[True, False]}\n",
    "\n",
    "\n",
    "grid = GridSearchCV(model, parameters, cv=None)\n",
    "grid.fit(X_train, y_train)\n",
    "print(\"r2 / variance : \", grid.best_score_)\n",
    "print(\"Residual sum of squares: %.2f\"\n",
    "              % np.mean((grid.predict(X_test) - y_test) ** 2))\n",
    "\n",
    "y_learned = grid.predict(X_test)\n",
    "\n",
    "outp = np.c_[y_test, y_learned]\n",
    "\n",
    "print('LR with GridSearch result')    \n",
    "fig = plt.figure()\n",
    "ax = fig.add_subplot(111)\n",
    "ax.scatter(y_learned, y_test, c=y_test)   \n"
   ]
  },
  {
   "cell_type": "code",
   "execution_count": null,
   "metadata": {},
   "outputs": [],
   "source": []
  }
 ],
 "metadata": {
  "kernelspec": {
   "display_name": "Python 3",
   "language": "python",
   "name": "python3"
  },
  "language_info": {
   "codemirror_mode": {
    "name": "ipython",
    "version": 3
   },
   "file_extension": ".py",
   "mimetype": "text/x-python",
   "name": "python",
   "nbconvert_exporter": "python",
   "pygments_lexer": "ipython3",
   "version": "3.6.4"
  }
 },
 "nbformat": 4,
 "nbformat_minor": 2
}
